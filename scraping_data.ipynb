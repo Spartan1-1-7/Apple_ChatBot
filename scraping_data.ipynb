{
 "cells": [
  {
   "cell_type": "code",
   "execution_count": 20,
   "id": "7bb56f8f",
   "metadata": {},
   "outputs": [],
   "source": [
    "import os\n",
    "import time\n",
    "from selenium import webdriver\n",
    "from selenium.webdriver.chrome.options import Options\n",
    "from bs4 import BeautifulSoup\n",
    "from fpdf import FPDF"
   ]
  },
  {
   "cell_type": "code",
   "execution_count": 21,
   "id": "593c66c4",
   "metadata": {},
   "outputs": [],
   "source": [
    "LINKS_FILE = \"apple_site_links.txt\"\n",
    "OUTPUT_DIR = \"apple_product_texts\"\n",
    "WAIT_TIME = 5\n",
    "os.makedirs(OUTPUT_DIR, exist_ok=True)"
   ]
  },
  {
   "cell_type": "code",
   "execution_count": 22,
   "id": "a331e1c2",
   "metadata": {},
   "outputs": [],
   "source": [
    "chrome_options = Options()\n",
    "chrome_options.add_argument(\"--headless\")\n",
    "chrome_options.add_argument(\"--disable-gpu\")\n",
    "chrome_options.add_argument(\"--no-sandbox\")\n",
    "\n",
    "driver = webdriver.Chrome(options=chrome_options)"
   ]
  },
  {
   "cell_type": "code",
   "execution_count": 23,
   "id": "2f9dabcd",
   "metadata": {},
   "outputs": [],
   "source": [
    "with open(LINKS_FILE, \"r\") as file:\n",
    "    urls = [line.strip() for line in file if line.strip()]\n"
   ]
  },
  {
   "cell_type": "code",
   "execution_count": 24,
   "id": "7600700f",
   "metadata": {},
   "outputs": [],
   "source": [
    "def extract_clean_text(soup):\n",
    "    # Remove unwanted elements\n",
    "    for tag in soup(['script', 'style', 'noscript', 'meta', 'link']):\n",
    "        tag.decompose()\n",
    "    \n",
    "    text = []\n",
    "    \n",
    "    # Product title (often in <h1>)\n",
    "    h1 = soup.find('h1')\n",
    "    if h1:\n",
    "        text.append(h1.get_text(strip=True))\n",
    "    \n",
    "    # Key features and descriptions\n",
    "    for tag in soup.find_all(['h2', 'h3', 'p', 'li']):\n",
    "        content = tag.get_text(strip=True)\n",
    "        if content and len(content.split()) > 3:  \n",
    "            text.append(content)\n",
    "    \n",
    "    return \"\\n\".join(text)"
   ]
  },
  {
   "cell_type": "code",
   "execution_count": 25,
   "id": "d846f284",
   "metadata": {},
   "outputs": [],
   "source": [
    "def save_to_pdf(text, filename):\n",
    "    pdf = FPDF()\n",
    "    pdf.add_page()\n",
    "    pdf.set_auto_page_break(auto=True, margin=15)\n",
    "    pdf.set_font(\"Arial\", size=12)\n",
    "\n",
    "    # Handle utf-8 encoding\n",
    "    text = text.encode('latin-1', 'replace').decode('latin-1')\n",
    "\n",
    "    for line in text.splitlines():\n",
    "        pdf.multi_cell(0, 10, line)\n",
    "\n",
    "    pdf.output(filename)"
   ]
  },
  {
   "cell_type": "code",
   "execution_count": 26,
   "id": "56ed3fd3",
   "metadata": {},
   "outputs": [
    {
     "name": "stdout",
     "output_type": "stream",
     "text": [
      "[1/19] Processing: https://support.apple.com/en-in/122208\n",
      "Saved: apple_product_texts/iPhone_16e_-_Tech_Specs.pdf\n",
      "[2/19] Processing: https://support.apple.com/en-in/121030\n",
      "Saved: apple_product_texts/iPhone_16_Plus_-_Tech_Specs.pdf\n",
      "[3/19] Processing: https://support.apple.com/en-in/121032\n",
      "Saved: apple_product_texts/iPhone_16_Pro_Max_-_Tech_Specs.pdf\n",
      "[4/19] Processing: https://support.apple.com/en-in/111829\n",
      "Saved: apple_product_texts/iPhone_15_Pro_-_Technical_Specifications.pdf\n",
      "[5/19] Processing: https://support.apple.com/en-in/111830\n",
      "Saved: apple_product_texts/iPhone_15_Plus_-_Tech_Specs.pdf\n",
      "[6/19] Processing: https://support.apple.com/en-in/111850\n",
      "Saved: apple_product_texts/iPhone_14_-_Tech_Specs.pdf\n",
      "[7/19] Processing: https://support.apple.com/en-in/121029\n",
      "Saved: apple_product_texts/iPhone_16_-_Tech_Specs.pdf\n",
      "[8/19] Processing: https://support.apple.com/en-in/121031\n",
      "Saved: apple_product_texts/iPhone_16_Pro_-_Tech_Specs.pdf\n",
      "[9/19] Processing: https://support.apple.com/en-in/111831\n",
      "Saved: apple_product_texts/iPhone_15_-_Tech_Specs.pdf\n",
      "[10/19] Processing: https://support.apple.com/en-in/111828\n",
      "Saved: apple_product_texts/iPhone_15_Pro_Max_-_Tech_Specs.pdf\n",
      "[11/19] Processing: https://support.apple.com/en-in/111866\n",
      "Saved: apple_product_texts/iPhone_SE__3rd_generation__-_Tech_Specs.pdf\n",
      "[12/19] Processing: https://support.apple.com/en-in/111854\n",
      "Saved: apple_product_texts/iPhone_14_Plus_-_Tech_Specs.pdf\n",
      "[13/19] Processing: https://support.apple.com/en-in/122210\n",
      "Saved: apple_product_texts/MacBook_Air__15-inch__M4__2025__-_Tech_Specs.pdf\n",
      "[14/19] Processing: https://support.apple.com/en-in/118552\n",
      "Saved: apple_product_texts/MacBook_Air__15-inch__M3__2024__-_Tech_Specs.pdf\n",
      "[15/19] Processing: https://support.apple.com/en-in/121553\n",
      "Saved: apple_product_texts/MacBook_Pro__14-inch__M4_Pro_or_M4_Max__2024_-_Tec.pdf\n",
      "[16/19] Processing: https://support.apple.com/en-in/122209\n",
      "Saved: apple_product_texts/MacBook_Air__13-inch__M4__2025__-_Tech_Specs.pdf\n",
      "[17/19] Processing: https://support.apple.com/en-in/118551\n",
      "Saved: apple_product_texts/MacBook_Air__13-inch__M3__2024__-_Tech_Specs.pdf\n",
      "[18/19] Processing: https://support.apple.com/en-in/121552\n",
      "Saved: apple_product_texts/MacBook_Pro__14-inch__M4__2024__-_Tech_Specs.pdf\n",
      "[19/19] Processing: https://support.apple.com/en-in/121554\n",
      "Saved: apple_product_texts/MacBook_Pro__16-inch__2024__-_Tech_Specs.pdf\n"
     ]
    }
   ],
   "source": [
    "for i, url in enumerate(urls):\n",
    "    print(f\"[{i+1}/{len(urls)}] Processing: {url}\")\n",
    "    try:\n",
    "        driver.get(url)\n",
    "        time.sleep(WAIT_TIME)\n",
    "\n",
    "        soup = BeautifulSoup(driver.page_source, \"html.parser\")\n",
    "        clean_text = extract_clean_text(soup)\n",
    "\n",
    "        if not clean_text:\n",
    "            print(\"No text found, skipping.\")\n",
    "            continue\n",
    "\n",
    "        # Use first line as PDF filename\n",
    "        first_line = clean_text.splitlines()[0]\n",
    "        safe_name = \"\".join(c if c.isalnum() or c in [' ', '-', '_'] else \"_\" for c in first_line).strip()\n",
    "        safe_name = safe_name.replace(\" \", \"_\")[:50]\n",
    "        pdf_path = os.path.join(OUTPUT_DIR, f\"{safe_name}.pdf\")\n",
    "\n",
    "        save_to_pdf(clean_text, pdf_path)\n",
    "        print(f\"Saved: {pdf_path}\")\n",
    "\n",
    "    except Exception as e:\n",
    "        print(f\"Failed to process {url}: {e}\")\n",
    "\n",
    "driver.quit()"
   ]
  }
 ],
 "metadata": {
  "kernelspec": {
   "display_name": "apple_chatbot",
   "language": "python",
   "name": "python3"
  },
  "language_info": {
   "codemirror_mode": {
    "name": "ipython",
    "version": 3
   },
   "file_extension": ".py",
   "mimetype": "text/x-python",
   "name": "python",
   "nbconvert_exporter": "python",
   "pygments_lexer": "ipython3",
   "version": "3.12.9"
  }
 },
 "nbformat": 4,
 "nbformat_minor": 5
}
