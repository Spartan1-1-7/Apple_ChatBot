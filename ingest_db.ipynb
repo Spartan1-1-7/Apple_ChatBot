{
 "cells": [
  {
   "cell_type": "code",
   "execution_count": 2,
   "id": "c499e150",
   "metadata": {},
   "outputs": [],
   "source": [
    "from langchain.text_splitter import RecursiveCharacterTextSplitter\n",
    "from langchain_community.document_loaders import PyPDFLoader, DirectoryLoader\n",
    "from langchain_huggingface import HuggingFaceEmbeddings\n",
    "from langchain_community.vectorstores import FAISS\n"
   ]
  },
  {
   "cell_type": "code",
   "execution_count": 3,
   "id": "56d1b557",
   "metadata": {},
   "outputs": [],
   "source": [
    "DATA_PATH='apple_product_texts'\n",
    "DB_FAISS_PATH='vector_db'"
   ]
  },
  {
   "cell_type": "code",
   "execution_count": 5,
   "id": "d19f0f3e",
   "metadata": {},
   "outputs": [
    {
     "name": "stderr",
     "output_type": "stream",
     "text": [
      "/home/arindam-shukla/anaconda3/envs/apple_chatbot/lib/python3.12/site-packages/pypdf/_crypt_providers/_cryptography.py:32: CryptographyDeprecationWarning: ARC4 has been moved to cryptography.hazmat.decrepit.ciphers.algorithms.ARC4 and will be removed from cryptography.hazmat.primitives.ciphers.algorithms in 48.0.0.\n",
      "  from cryptography.hazmat.primitives.ciphers.algorithms import AES, ARC4\n"
     ]
    },
    {
     "name": "stdout",
     "output_type": "stream",
     "text": [
      " Loaded 392 documents from apple_product_texts\n"
     ]
    }
   ],
   "source": [
    "loader = DirectoryLoader(DATA_PATH, glob='*.pdf', loader_cls=PyPDFLoader)\n",
    "documents = loader.load()\n",
    "print(f\" Loaded {len(documents)} documents from {DATA_PATH}\")"
   ]
  },
  {
   "cell_type": "code",
   "execution_count": 6,
   "id": "126649fd",
   "metadata": {},
   "outputs": [
    {
     "name": "stdout",
     "output_type": "stream",
     "text": [
      " Created 1621 text chunks.\n",
      "First chunk: MacBook Air (15-inch, M3, 2024) - Tech Specs\n",
      "StoreShopShop the LatestMaciPadiPhoneApple WatchAccessoriesQuick LinksFind a StoreOrder\n",
      "StatusWays to BuyPersonal SetupShop Special StoresEducationBusiness\n"
     ]
    }
   ],
   "source": [
    "text_splitter = RecursiveCharacterTextSplitter(chunk_size=500, chunk_overlap=50)\n",
    "texts = text_splitter.split_documents(documents)\n",
    "\n",
    "print(f\" Created {len(texts)} text chunks.\")\n",
    "print(\"First chunk:\", texts[0].page_content[:200])"
   ]
  },
  {
   "cell_type": "code",
   "execution_count": 7,
   "id": "6a052b15",
   "metadata": {},
   "outputs": [
    {
     "name": "stderr",
     "output_type": "stream",
     "text": [
      "/home/arindam-shukla/anaconda3/envs/apple_chatbot/lib/python3.12/site-packages/tqdm/auto.py:21: TqdmWarning: IProgress not found. Please update jupyter and ipywidgets. See https://ipywidgets.readthedocs.io/en/stable/user_install.html\n",
      "  from .autonotebook import tqdm as notebook_tqdm\n"
     ]
    },
    {
     "name": "stdout",
     "output_type": "stream",
     "text": [
      " embedding vector size: 384\n",
      " first 5 values: [0.06502405554056168, 0.11340225487947464, 0.021272556856274605, 0.0413065105676651, 0.02247108519077301]\n"
     ]
    }
   ],
   "source": [
    "embeddings = HuggingFaceEmbeddings(model_name='sentence-transformers/all-MiniLM-L6-v2', model_kwargs={'device': 'cpu'})\n",
    "sample_text= \"this is a text sentence.\"\n",
    "vector = embeddings.embed_query(sample_text)\n",
    "\n",
    "print(f\" embedding vector size: {len(vector)}\")\n",
    "print(f\" first 5 values: {vector[:5]}\")"
   ]
  },
  {
   "cell_type": "code",
   "execution_count": 9,
   "id": "368270e4",
   "metadata": {},
   "outputs": [
    {
     "name": "stdout",
     "output_type": "stream",
     "text": [
      " found 3 similar documents. \n",
      " first results:  iPhone 16 Plus - Tech Specs\n",
      "StoreShopShop the LatestMaciPadiPhoneApple WatchAccessoriesQuick LinksFind a StoreOrder\n",
      "StatusWays to BuyPersonal SetupShop Special StoresEducationBusinessMacExplore MacExp\n"
     ]
    }
   ],
   "source": [
    "db = FAISS.from_documents(texts, embeddings)\n",
    "\n",
    "query= \" Iphone 16 \"\n",
    "results = db.similarity_search(query,k=3)\n",
    "\n",
    "print(f\" found {len(results)} similar documents. \")\n",
    "print(' first results: ', results[0].page_content[:200])"
   ]
  },
  {
   "cell_type": "code",
   "execution_count": 10,
   "id": "62aec1bb",
   "metadata": {},
   "outputs": [],
   "source": [
    "db.save_local(DB_FAISS_PATH)"
   ]
  }
 ],
 "metadata": {
  "kernelspec": {
   "display_name": "apple_chatbot",
   "language": "python",
   "name": "python3"
  },
  "language_info": {
   "codemirror_mode": {
    "name": "ipython",
    "version": 3
   },
   "file_extension": ".py",
   "mimetype": "text/x-python",
   "name": "python",
   "nbconvert_exporter": "python",
   "pygments_lexer": "ipython3",
   "version": "3.12.2"
  }
 },
 "nbformat": 4,
 "nbformat_minor": 5
}
