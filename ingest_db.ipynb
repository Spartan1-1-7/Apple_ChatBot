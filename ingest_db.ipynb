{
 "cells": [
  {
   "cell_type": "code",
   "execution_count": 14,
   "id": "c499e150",
   "metadata": {},
   "outputs": [],
   "source": [
    "from langchain.text_splitter import RecursiveCharacterTextSplitter\n",
    "from langchain_community.document_loaders import PyPDFLoader, DirectoryLoader\n",
    "from langchain_huggingface import HuggingFaceEmbeddings\n",
    "from langchain_community.vectorstores import FAISS\n"
   ]
  },
  {
   "cell_type": "code",
   "execution_count": 15,
   "id": "56d1b557",
   "metadata": {},
   "outputs": [],
   "source": [
    "DATA_PATH='apple_products_data'\n",
    "DB_FAISS_PATH='vector_db'"
   ]
  },
  {
   "cell_type": "code",
   "execution_count": 16,
   "id": "d19f0f3e",
   "metadata": {},
   "outputs": [
    {
     "name": "stdout",
     "output_type": "stream",
     "text": [
      " Loaded 41 documents from apple_products_data\n"
     ]
    }
   ],
   "source": [
    "loader = DirectoryLoader(DATA_PATH, glob='*.pdf', loader_cls=PyPDFLoader)\n",
    "documents = loader.load()\n",
    "print(f\" Loaded {len(documents)} documents from {DATA_PATH}\")"
   ]
  },
  {
   "cell_type": "code",
   "execution_count": 17,
   "id": "126649fd",
   "metadata": {},
   "outputs": [
    {
     "name": "stdout",
     "output_type": "stream",
     "text": [
      " Created 504 text chunks.\n",
      "First chunk: File: all_data_doc.txt Page 1 of 41\n",
      "iPhone 16 Pro – Detailed Specifications\n",
      "General Information:\n",
      "- M\n"
     ]
    }
   ],
   "source": [
    "text_splitter = RecursiveCharacterTextSplitter(chunk_size=300, chunk_overlap=100)\n",
    "texts = text_splitter.split_documents(documents)\n",
    "\n",
    "print(f\" Created {len(texts)} text chunks.\")\n",
    "print(\"First chunk:\", texts[0].page_content[:100])"
   ]
  },
  {
   "cell_type": "code",
   "execution_count": 18,
   "id": "6a052b15",
   "metadata": {},
   "outputs": [
    {
     "name": "stdout",
     "output_type": "stream",
     "text": [
      " embedding vector size: 384\n",
      " first 5 values: [0.06502405554056168, 0.11340225487947464, 0.021272556856274605, 0.0413065105676651, 0.02247108519077301]\n"
     ]
    }
   ],
   "source": [
    "embeddings = HuggingFaceEmbeddings(model_name='sentence-transformers/all-MiniLM-L6-v2', model_kwargs={'device': 'cpu'})\n",
    "sample_text= \"this is a text sentence.\"\n",
    "vector = embeddings.embed_query(sample_text)\n",
    "\n",
    "print(f\" embedding vector size: {len(vector)}\")\n",
    "print(f\" first 5 values: {vector[:5]}\")"
   ]
  },
  {
   "cell_type": "code",
   "execution_count": 19,
   "id": "368270e4",
   "metadata": {},
   "outputs": [
    {
     "name": "stdout",
     "output_type": "stream",
     "text": [
      " found 3 similar documents. \n",
      " first results:  General Information:\n",
      "- Model Name: iPhone 16\n",
      "- Release Date: September 2024\n",
      "- Price (India): ₹79,900 for 128GB variant (source: apple.com/in)\n",
      "- Operating System: iOS 18\n",
      "Design & Build:\n",
      "- Material: Alu\n"
     ]
    }
   ],
   "source": [
    "db = FAISS.from_documents(texts, embeddings)\n",
    "\n",
    "query= \" Iphone 16 \"\n",
    "results = db.similarity_search(query,k=3)\n",
    "\n",
    "print(f\" found {len(results)} similar documents. \")\n",
    "print(' first results: ', results[0].page_content[:200])"
   ]
  },
  {
   "cell_type": "code",
   "execution_count": 20,
   "id": "62aec1bb",
   "metadata": {},
   "outputs": [],
   "source": [
    "db.save_local(DB_FAISS_PATH)"
   ]
  }
 ],
 "metadata": {
  "kernelspec": {
   "display_name": "apple_chatbot",
   "language": "python",
   "name": "python3"
  },
  "language_info": {
   "codemirror_mode": {
    "name": "ipython",
    "version": 3
   },
   "file_extension": ".py",
   "mimetype": "text/x-python",
   "name": "python",
   "nbconvert_exporter": "python",
   "pygments_lexer": "ipython3",
   "version": "3.12.2"
  }
 },
 "nbformat": 4,
 "nbformat_minor": 5
}
